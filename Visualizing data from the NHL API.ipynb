{
 "cells": [
  {
   "cell_type": "markdown",
   "metadata": {},
   "source": [
    "## Setup"
   ]
  },
  {
   "cell_type": "code",
   "execution_count": 1,
   "metadata": {},
   "outputs": [],
   "source": [
    "import requests\n",
    "import json\n",
    "import pandas\n",
    "import numpy\n",
    "import matplotlib.pyplot as plt\n",
    "from ggplot import *"
   ]
  },
  {
   "cell_type": "markdown",
   "metadata": {},
   "source": [
    "In this notebook, we'll be using data from the last game the Bruins played before the season was cancelled/paused, which was against the Philadelphia Flyers (game ID 2019021073)."
   ]
  },
  {
   "cell_type": "code",
   "execution_count": 2,
   "metadata": {},
   "outputs": [],
   "source": [
    "url = 'https://statsapi.web.nhl.com/api/v1/game/2019021073/feed/live'\n",
    "responseRaw = requests.get(url).json()['liveData']['plays']['allPlays']"
   ]
  },
  {
   "cell_type": "markdown",
   "metadata": {},
   "source": [
    "Using code from the previous post and notebook, the output from the API is transformed into a dataframe. \n",
    "\n",
    "The section to handle with player and team data is a little messy, due to the responses containing nested dictionaries and lists of dictionaries. "
   ]
  },
  {
   "cell_type": "code",
   "execution_count": 3,
   "metadata": {},
   "outputs": [
    {
     "data": {
      "text/html": [
       "<div>\n",
       "<style scoped>\n",
       "    .dataframe tbody tr th:only-of-type {\n",
       "        vertical-align: middle;\n",
       "    }\n",
       "\n",
       "    .dataframe tbody tr th {\n",
       "        vertical-align: top;\n",
       "    }\n",
       "\n",
       "    .dataframe thead th {\n",
       "        text-align: right;\n",
       "    }\n",
       "</style>\n",
       "<table border=\"1\" class=\"dataframe\">\n",
       "  <thead>\n",
       "    <tr style=\"text-align: right;\">\n",
       "      <th></th>\n",
       "      <th>result_event</th>\n",
       "      <th>result_eventCode</th>\n",
       "      <th>result_eventTypeId</th>\n",
       "      <th>result_description</th>\n",
       "      <th>about_eventIdx</th>\n",
       "      <th>about_eventId</th>\n",
       "      <th>about_period</th>\n",
       "      <th>about_periodType</th>\n",
       "      <th>about_ordinalNum</th>\n",
       "      <th>about_periodTime</th>\n",
       "      <th>...</th>\n",
       "      <th>coordinates_x</th>\n",
       "      <th>coordinates_y</th>\n",
       "      <th>team_name</th>\n",
       "      <th>team_triCode</th>\n",
       "      <th>player1_id</th>\n",
       "      <th>player1_fullName</th>\n",
       "      <th>player1_type</th>\n",
       "      <th>player2_id</th>\n",
       "      <th>player2_fullName</th>\n",
       "      <th>player2_type</th>\n",
       "    </tr>\n",
       "  </thead>\n",
       "  <tbody>\n",
       "    <tr>\n",
       "      <td>0</td>\n",
       "      <td>Game Scheduled</td>\n",
       "      <td>PHI1</td>\n",
       "      <td>GAME_SCHEDULED</td>\n",
       "      <td>Game Scheduled</td>\n",
       "      <td>0</td>\n",
       "      <td>1</td>\n",
       "      <td>1</td>\n",
       "      <td>REGULAR</td>\n",
       "      <td>1st</td>\n",
       "      <td>00:00</td>\n",
       "      <td>...</td>\n",
       "      <td>NaN</td>\n",
       "      <td>NaN</td>\n",
       "      <td>NaN</td>\n",
       "      <td>NaN</td>\n",
       "      <td>NaN</td>\n",
       "      <td>NaN</td>\n",
       "      <td>NaN</td>\n",
       "      <td>NaN</td>\n",
       "      <td>NaN</td>\n",
       "      <td>NaN</td>\n",
       "    </tr>\n",
       "    <tr>\n",
       "      <td>1</td>\n",
       "      <td>Period Ready</td>\n",
       "      <td>PHI5</td>\n",
       "      <td>PERIOD_READY</td>\n",
       "      <td>Period Ready</td>\n",
       "      <td>1</td>\n",
       "      <td>5</td>\n",
       "      <td>1</td>\n",
       "      <td>REGULAR</td>\n",
       "      <td>1st</td>\n",
       "      <td>00:00</td>\n",
       "      <td>...</td>\n",
       "      <td>NaN</td>\n",
       "      <td>NaN</td>\n",
       "      <td>NaN</td>\n",
       "      <td>NaN</td>\n",
       "      <td>NaN</td>\n",
       "      <td>NaN</td>\n",
       "      <td>NaN</td>\n",
       "      <td>NaN</td>\n",
       "      <td>NaN</td>\n",
       "      <td>NaN</td>\n",
       "    </tr>\n",
       "    <tr>\n",
       "      <td>2</td>\n",
       "      <td>Period Start</td>\n",
       "      <td>PHI51</td>\n",
       "      <td>PERIOD_START</td>\n",
       "      <td>Period Start</td>\n",
       "      <td>2</td>\n",
       "      <td>51</td>\n",
       "      <td>1</td>\n",
       "      <td>REGULAR</td>\n",
       "      <td>1st</td>\n",
       "      <td>00:00</td>\n",
       "      <td>...</td>\n",
       "      <td>NaN</td>\n",
       "      <td>NaN</td>\n",
       "      <td>NaN</td>\n",
       "      <td>NaN</td>\n",
       "      <td>NaN</td>\n",
       "      <td>NaN</td>\n",
       "      <td>NaN</td>\n",
       "      <td>NaN</td>\n",
       "      <td>NaN</td>\n",
       "      <td>NaN</td>\n",
       "    </tr>\n",
       "    <tr>\n",
       "      <td>3</td>\n",
       "      <td>Faceoff</td>\n",
       "      <td>PHI52</td>\n",
       "      <td>FACEOFF</td>\n",
       "      <td>Claude Giroux faceoff won against Patrice Berg...</td>\n",
       "      <td>3</td>\n",
       "      <td>52</td>\n",
       "      <td>1</td>\n",
       "      <td>REGULAR</td>\n",
       "      <td>1st</td>\n",
       "      <td>00:00</td>\n",
       "      <td>...</td>\n",
       "      <td>0.0</td>\n",
       "      <td>0.0</td>\n",
       "      <td>Philadelphia Flyers</td>\n",
       "      <td>PHI</td>\n",
       "      <td>8473512.0</td>\n",
       "      <td>Claude Giroux</td>\n",
       "      <td>Winner</td>\n",
       "      <td>8470638.0</td>\n",
       "      <td>Patrice Bergeron</td>\n",
       "      <td>Loser</td>\n",
       "    </tr>\n",
       "    <tr>\n",
       "      <td>4</td>\n",
       "      <td>Blocked Shot</td>\n",
       "      <td>PHI53</td>\n",
       "      <td>BLOCKED_SHOT</td>\n",
       "      <td>Ivan Provorov shot blocked shot by Patrice Ber...</td>\n",
       "      <td>4</td>\n",
       "      <td>53</td>\n",
       "      <td>1</td>\n",
       "      <td>REGULAR</td>\n",
       "      <td>1st</td>\n",
       "      <td>00:31</td>\n",
       "      <td>...</td>\n",
       "      <td>-76.0</td>\n",
       "      <td>-15.0</td>\n",
       "      <td>Boston Bruins</td>\n",
       "      <td>BOS</td>\n",
       "      <td>8470638.0</td>\n",
       "      <td>Patrice Bergeron</td>\n",
       "      <td>Blocker</td>\n",
       "      <td>8478500.0</td>\n",
       "      <td>Ivan Provorov</td>\n",
       "      <td>Shooter</td>\n",
       "    </tr>\n",
       "  </tbody>\n",
       "</table>\n",
       "<p>5 rows × 23 columns</p>\n",
       "</div>"
      ],
      "text/plain": [
       "     result_event result_eventCode result_eventTypeId  \\\n",
       "0  Game Scheduled             PHI1     GAME_SCHEDULED   \n",
       "1    Period Ready             PHI5       PERIOD_READY   \n",
       "2    Period Start            PHI51       PERIOD_START   \n",
       "3         Faceoff            PHI52            FACEOFF   \n",
       "4    Blocked Shot            PHI53       BLOCKED_SHOT   \n",
       "\n",
       "                                  result_description  about_eventIdx  \\\n",
       "0                                     Game Scheduled               0   \n",
       "1                                       Period Ready               1   \n",
       "2                                       Period Start               2   \n",
       "3  Claude Giroux faceoff won against Patrice Berg...               3   \n",
       "4  Ivan Provorov shot blocked shot by Patrice Ber...               4   \n",
       "\n",
       "   about_eventId  about_period about_periodType about_ordinalNum  \\\n",
       "0              1             1          REGULAR              1st   \n",
       "1              5             1          REGULAR              1st   \n",
       "2             51             1          REGULAR              1st   \n",
       "3             52             1          REGULAR              1st   \n",
       "4             53             1          REGULAR              1st   \n",
       "\n",
       "  about_periodTime  ... coordinates_x coordinates_y            team_name  \\\n",
       "0            00:00  ...           NaN           NaN                  NaN   \n",
       "1            00:00  ...           NaN           NaN                  NaN   \n",
       "2            00:00  ...           NaN           NaN                  NaN   \n",
       "3            00:00  ...           0.0           0.0  Philadelphia Flyers   \n",
       "4            00:31  ...         -76.0         -15.0        Boston Bruins   \n",
       "\n",
       "   team_triCode  player1_id  player1_fullName player1_type  player2_id  \\\n",
       "0           NaN         NaN               NaN          NaN         NaN   \n",
       "1           NaN         NaN               NaN          NaN         NaN   \n",
       "2           NaN         NaN               NaN          NaN         NaN   \n",
       "3           PHI   8473512.0     Claude Giroux       Winner   8470638.0   \n",
       "4           BOS   8470638.0  Patrice Bergeron      Blocker   8478500.0   \n",
       "\n",
       "   player2_fullName player2_type  \n",
       "0               NaN          NaN  \n",
       "1               NaN          NaN  \n",
       "2               NaN          NaN  \n",
       "3  Patrice Bergeron        Loser  \n",
       "4     Ivan Provorov      Shooter  \n",
       "\n",
       "[5 rows x 23 columns]"
      ]
     },
     "execution_count": 3,
     "metadata": {},
     "output_type": "execute_result"
    }
   ],
   "source": [
    "#convert full response to dataframe\n",
    "responseFinal = pandas.DataFrame(responseRaw)\n",
    "\n",
    "#split out player info into 2 columns\n",
    "responseFinal['player1'] = responseFinal['players'].str[0].apply(pandas.Series)['player']\n",
    "responseFinal['player1_type'] = responseFinal['players'].str[0].apply(pandas.Series)['playerType']\n",
    "responseFinal['player1'].loc[responseFinal['player1'].isnull()] = responseFinal['player1'].loc[responseFinal['player1'].isnull()].apply(lambda x: {})\n",
    "\n",
    "responseFinal['player2'] = responseFinal['players'].str[1].apply(pandas.Series)['player']\n",
    "responseFinal['player2_type'] = responseFinal['players'].str[1].apply(pandas.Series)['playerType']\n",
    "responseFinal['player2'].loc[responseFinal['player2'].isnull()] = responseFinal['player2'].loc[responseFinal['player2'].isnull()].apply(lambda x: {})\n",
    "\n",
    "#team pre-processing\n",
    "responseFinal['team'].loc[responseFinal['team'].isnull()] = responseFinal['team'].loc[responseFinal['team'].isnull()].apply(lambda x: {})\n",
    "\n",
    "#loop through all columns of the new dataframe\n",
    "for column in responseFinal:\n",
    "    #if column is a dictionary, convert to temporary dataframe and append to main one\n",
    "    if(type(responseFinal[column].iloc[3]) is dict):\n",
    "        tempData = pandas.DataFrame(responseFinal[column].tolist())\n",
    "        tempData.columns = [str(column) + '_' + str(string) for string in tempData.columns]\n",
    "        responseFinal = pandas.concat([responseFinal.reset_index(drop=True), tempData], axis=1)\n",
    "\n",
    "responseFinal = responseFinal[['result_event','result_eventCode', 'result_eventTypeId', \n",
    "                               'result_description','about_eventIdx', 'about_eventId', \n",
    "                               'about_period', 'about_periodType','about_ordinalNum', \n",
    "                               'about_periodTime', 'about_periodTimeRemaining',\n",
    "                               'about_dateTime', 'about_goals', 'coordinates_x', 'coordinates_y',\n",
    "                               'team_name', 'team_triCode', 'player1_id','player1_fullName', \n",
    "                               'player1_type','player2_id', 'player2_fullName','player2_type',]]\n",
    "\n",
    "responseFinal.head()"
   ]
  },
  {
   "cell_type": "markdown",
   "metadata": {},
   "source": [
    "In the following sections, we'll be looking at visualizing some of this data using 3 different librairies: pandas, matplotlib, and ggplot. \n",
    "\n",
    "## Visualizing shot data using pandas\n",
    "\n",
    "### Number of shots per team\n",
    "We create a bar chart of the number of shots taken by each team and see that the two teams took a comparable number of shots, with the Flyers having only ~5 more over the entire game. "
   ]
  },
  {
   "cell_type": "code",
   "execution_count": 6,
   "metadata": {},
   "outputs": [
    {
     "data": {
      "text/plain": [
       "<matplotlib.axes._subplots.AxesSubplot at 0x1200d4bd0>"
      ]
     },
     "execution_count": 6,
     "metadata": {},
     "output_type": "execute_result"
    },
    {
     "data": {
      "image/png": "[encoded data removed]",
      "text/plain": [
       "<Figure size 432x288 with 1 Axes>"
      ]
     },
     "metadata": {
      "needs_background": "light"
     },
     "output_type": "display_data"
    }
   ],
   "source": [
    "#to only keep the rows corresponding to shot events, more specifically the column containing the team name\n",
    "responseFinal[responseFinal['result_eventTypeId'].isin(['MISSED_SHOT','SHOT'])]['team_name']\n",
    "\n",
    "#counting how often each occurs (i.e. how many shots each team had)\n",
    "responseFinal[responseFinal['result_eventTypeId'].isin(['MISSED_SHOT','SHOT'])]['team_name'].value_counts()\n",
    "\n",
    "#sort in descending order\n",
    "responseFinal[responseFinal['result_eventTypeId'].isin(['MISSED_SHOT',\n",
    "                                                        'SHOT'])]['team_name'].value_counts().sort_index()\n",
    "\n",
    "#create bar plot\n",
    "responseFinal[responseFinal['result_eventTypeId'].isin(['MISSED_SHOT',\n",
    "                                                        'SHOT'])]['team_name'].value_counts().sort_index().plot.bar()\n"
   ]
  },
  {
   "cell_type": "markdown",
   "metadata": {},
   "source": [
    "### Number of shots per team per period\n",
    "This was true across all period, too. "
   ]
  },
  {
   "cell_type": "code",
   "execution_count": 5,
   "metadata": {},
   "outputs": [
    {
     "data": {
      "text/plain": [
       "<matplotlib.axes._subplots.AxesSubplot at 0x11f1becd0>"
      ]
     },
     "execution_count": 5,
     "metadata": {},
     "output_type": "execute_result"
    },
    {
     "data": {
      "image/png": "[encoded data removed]",
      "text/plain": [
       "<Figure size 432x288 with 1 Axes>"
      ]
     },
     "metadata": {
      "needs_background": "light"
     },
     "output_type": "display_data"
    }
   ],
   "source": [
    "#count number of shots by team and period\n",
    "responseFinal[responseFinal['result_eventTypeId'].\n",
    "              isin(['MISSED_SHOT',\n",
    "                    'SHOT'])].groupby(['team_name','about_period'])['result_eventTypeId'].count()\n",
    "\n",
    "#tranform from long to wide\n",
    "data = responseFinal[responseFinal['result_eventTypeId'].\n",
    "              isin(['MISSED_SHOT',\n",
    "                    'SHOT'])].groupby(['team_name','about_period'])['result_eventTypeId'].count().unstack('team_name').fillna(0)\n",
    "\n",
    "\n",
    "data.plot(kind=\"bar\")\n"
   ]
  },
  {
   "cell_type": "markdown",
   "metadata": {},
   "source": [
    "### Number of shots per team per shot type\n",
    "We look at the data for 3 different types of shots: missed, blocked, and actual shots. \n",
    "\n",
    "While the two teams had a comparable number of shots overall, the Flyers had almost 10 more shots on goal than the Bruins, and comparatively fewer missed shots. "
   ]
  },
  {
   "cell_type": "code",
   "execution_count": 4,
   "metadata": {},
   "outputs": [
    {
     "data": {
      "text/plain": [
       "<matplotlib.axes._subplots.AxesSubplot at 0x11f063d50>"
      ]
     },
     "execution_count": 4,
     "metadata": {},
     "output_type": "execute_result"
    },
    {
     "data": {
      "image/png": "[encoded data removed]",
      "text/plain": [
       "<Figure size 432x288 with 1 Axes>"
      ]
     },
     "metadata": {
      "needs_background": "light"
     },
     "output_type": "display_data"
    }
   ],
   "source": [
    "#count number of shots by team and shot type\n",
    "data = responseFinal[responseFinal['result_eventTypeId'].\n",
    "              isin(['MISSED_SHOT',\n",
    "                    'SHOT'])].groupby(['team_name','result_eventTypeId'])['about_eventId'].count().unstack('team_name')\n",
    "\n",
    "data.plot(kind='bar', color=['gold', 'orange',])"
   ]
  },
  {
   "cell_type": "markdown",
   "metadata": {},
   "source": [
    "## Visualizing shot data using matplotlib\n",
    "\n",
    "### Number of shots by player\n",
    "We look at the total number of shots (incl. missed and blocked) for each player and plot those on a bar chart, looking only at player that registered more than 3 shots during the game. "
   ]
  },
  {
   "cell_type": "code",
   "execution_count": 160,
   "metadata": {},
   "outputs": [
    {
     "data": {
      "text/plain": [
       "([<matplotlib.axis.XTick at 0x1245ca3d0>,\n",
       "  <matplotlib.axis.XTick at 0x1245c3a50>,\n",
       "  <matplotlib.axis.XTick at 0x1245c37d0>,\n",
       "  <matplotlib.axis.XTick at 0x12468df50>,\n",
       "  <matplotlib.axis.XTick at 0x12469a590>,\n",
       "  <matplotlib.axis.XTick at 0x12469abd0>,\n",
       "  <matplotlib.axis.XTick at 0x12469a610>,\n",
       "  <matplotlib.axis.XTick at 0x1246a1450>,\n",
       "  <matplotlib.axis.XTick at 0x1246a1a90>,\n",
       "  <matplotlib.axis.XTick at 0x1246a6050>,\n",
       "  <matplotlib.axis.XTick at 0x1246a6710>,\n",
       "  <matplotlib.axis.XTick at 0x1246a6d50>,\n",
       "  <matplotlib.axis.XTick at 0x1246ad3d0>,\n",
       "  <matplotlib.axis.XTick at 0x1246ada10>],\n",
       " <a list of 14 Text xticklabel objects>)"
      ]
     },
     "execution_count": 160,
     "metadata": {},
     "output_type": "execute_result"
    },
    {
     "data": {
      "image/png": "[encoded data removed]",
      "text/plain": [
       "<Figure size 432x288 with 1 Axes>"
      ]
     },
     "metadata": {
      "needs_background": "light"
     },
     "output_type": "display_data"
    }
   ],
   "source": [
    "#count number of shots by player\n",
    "data = responseFinal[responseFinal['result_eventTypeId'].\n",
    "              isin(['BLOCKED_SHOT',\n",
    "                    'MISSED_SHOT',\n",
    "                    'SHOT'])]['player1_fullName'].value_counts()\n",
    "\n",
    "#format as dataframe and keep only platers with 4 or more shots\n",
    "data = pandas.DataFrame(data)\n",
    "data = data[data['player1_fullName']>3]\n",
    "\n",
    "#create bar plot (x axis going from 0 to 14, y axis with the number of shots for each player\n",
    "plt.bar([i for i in range(0,len(data))], data['player1_fullName'])\n",
    "\n",
    "#add x-axis labels\n",
    "plt.xticks([i for i in range(0,len(data))], data.index, rotation=70)"
   ]
  },
  {
   "cell_type": "markdown",
   "metadata": {},
   "source": [
    "### Number of shots by player and team\n",
    "Same as the above chart, but filling the bars based on the team the player belongs to. "
   ]
  },
  {
   "cell_type": "code",
   "execution_count": 159,
   "metadata": {},
   "outputs": [
    {
     "data": {
      "text/plain": [
       "([<matplotlib.axis.XTick at 0x1244a42d0>,\n",
       "  <matplotlib.axis.XTick at 0x12449fa10>,\n",
       "  <matplotlib.axis.XTick at 0x123f6c410>,\n",
       "  <matplotlib.axis.XTick at 0x1244c3b50>,\n",
       "  <matplotlib.axis.XTick at 0x124574690>,\n",
       "  <matplotlib.axis.XTick at 0x124574290>,\n",
       "  <matplotlib.axis.XTick at 0x124574dd0>,\n",
       "  <matplotlib.axis.XTick at 0x12457b6d0>,\n",
       "  <matplotlib.axis.XTick at 0x12457bd10>,\n",
       "  <matplotlib.axis.XTick at 0x124580390>,\n",
       "  <matplotlib.axis.XTick at 0x124580990>,\n",
       "  <matplotlib.axis.XTick at 0x124580a90>,\n",
       "  <matplotlib.axis.XTick at 0x124588650>,\n",
       "  <matplotlib.axis.XTick at 0x124588c90>],\n",
       " <a list of 14 Text xticklabel objects>)"
      ]
     },
     "execution_count": 159,
     "metadata": {},
     "output_type": "execute_result"
    },
    {
     "data": {
      "image/png": "[encoded data removed]",
      "text/plain": [
       "<Figure size 432x288 with 1 Axes>"
      ]
     },
     "metadata": {
      "needs_background": "light"
     },
     "output_type": "display_data"
    }
   ],
   "source": [
    "data = pandas.DataFrame(responseFinal[responseFinal['result_eventTypeId'].\n",
    "              isin(['BLOCKED_SHOT',\n",
    "                    'MISSED_SHOT',\n",
    "                    'SHOT'])].groupby(['team_triCode','player1_fullName'])['about_eventId'].count().reset_index())\n",
    "\n",
    "#format as dataframe and keep only platers with 4 or more shots, and sort in descending order\n",
    "data = data[data['about_eventId']>3].sort_values(by=['about_eventId'], ascending=False)\n",
    "\n",
    "#create bar plot (x axis going from 0 to 14, y axis with the number of shots for each player\n",
    "plt.bar([i for i in range(0,len(data))],data['about_eventId'],\n",
    "       color=numpy.where(data['team_triCode']=='BOS', 'gold', 'orange'))\n",
    "\n",
    "#add x-axis labels\n",
    "plt.xticks([i for i in range(0,len(data))], data['player1_fullName'], rotation=70)"
   ]
  },
  {
   "cell_type": "markdown",
   "metadata": {},
   "source": [
    "## Visualizing shot data using ggplot\n",
    "\n",
    "### Number of shots by period\n",
    "Here we look at the number of shots on goal vs missed shots per period"
   ]
  },
  {
   "cell_type": "code",
   "execution_count": 5,
   "metadata": {},
   "outputs": [
    {
     "data": {
      "image/png": "[encoded data removed]",
      "text/plain": [
       "<Figure size 792x576 with 1 Axes>"
      ]
     },
     "metadata": {},
     "output_type": "display_data"
    },
    {
     "data": {
      "text/plain": [
       "<ggplot: (309404237)>"
      ]
     },
     "execution_count": 5,
     "metadata": {},
     "output_type": "execute_result"
    }
   ],
   "source": [
    "shotData = pandas.DataFrame(responseFinal[responseFinal['result_eventTypeId'].\n",
    "                              isin(['MISSED_SHOT',\n",
    "                                    'SHOT'])]).groupby(['about_period','result_event'])['about_eventId'].count().reset_index()\n",
    "\n",
    "ggplot(aes(x='about_period',weight='about_eventId'),data=shotData)+\\\n",
    "geom_bar(stat='sum')"
   ]
  },
  {
   "cell_type": "markdown",
   "metadata": {},
   "source": [
    "After some pretty extensive googling, it looks like the versions of ggplot and pandas I'm using aren't fully compatible, or at least causes issues when trying to use more advanced argments (e.g. fill, position). "
   ]
  }
 ],
 "metadata": {
  "kernelspec": {
   "display_name": "Python 3",
   "language": "python",
   "name": "python3"
  },
  "language_info": {
   "codemirror_mode": {
    "name": "ipython",
    "version": 3
   },
   "file_extension": ".py",
   "mimetype": "text/x-python",
   "name": "python",
   "nbconvert_exporter": "python",
   "pygments_lexer": "ipython3",
   "version": "3.7.4"
  }
 },
 "nbformat": 4,
 "nbformat_minor": 2
}
